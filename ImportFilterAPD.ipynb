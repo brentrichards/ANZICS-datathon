{
 "cells": [
  {
   "cell_type": "code",
   "execution_count": null,
   "metadata": {},
   "outputs": [],
   "source": [
    "import pandas as pd\n",
    "data = pd.read_csv('datathon.csv', skipinitialspace=True)\n",
    "#data.drop(data.columns[0], axis=1, inplace=True) # drop the first column"
   ]
  },
  {
   "cell_type": "markdown",
   "metadata": {},
   "source": [
    "This hopefully has imported datathon in to pandas"
   ]
  },
  {
   "cell_type": "code",
   "execution_count": null,
   "metadata": {},
   "outputs": [],
   "source": [
    "data.shape"
   ]
  },
  {
   "cell_type": "code",
   "execution_count": null,
   "metadata": {},
   "outputs": [],
   "source": [
    "data.head()"
   ]
  },
  {
   "cell_type": "code",
   "execution_count": null,
   "metadata": {},
   "outputs": [],
   "source": [
    "#data.info(max_cols=data.shape[1])"
   ]
  },
  {
   "cell_type": "code",
   "execution_count": null,
   "metadata": {},
   "outputs": [],
   "source": [
    "#ap3diagnosis = int(input(\"enter the AP3 diagnosis number \\n\"))\n",
    "\n",
    "#use the line above if you want user input (and comment out the next line), else use\n",
    "\n",
    "ap3diagnosis = 2010213"
   ]
  },
  {
   "cell_type": "code",
   "execution_count": null,
   "metadata": {},
   "outputs": [],
   "source": [
    "#use this line if you get user input\n",
    "#data_ap3= data[(data.ap3diag==ap3diagnosis)]\n",
    "\n",
    "\n",
    "#if you want multiple ap3's, enter them here\n",
    "##\n",
    "mult_ap3=[201, 202, 203, 204, 206, 207, 208, 209, 210, 211, 212, 213 ]\n",
    "data_ap3 = data[data.ap3diag.isin(mult_ap3)]\n",
    "\n",
    "# have worked out how to use more than 1 number (yeah!) - it is needed (e.g. all the sepsis diagnoses)\n",
    "\n",
    "data_ap3.shape"
   ]
  },
  {
   "cell_type": "markdown",
   "metadata": {},
   "source": [
    "Now for a few cross tabs to look at the data"
   ]
  },
  {
   "cell_type": "code",
   "execution_count": null,
   "metadata": {},
   "outputs": [],
   "source": [
    "pd.crosstab(data_ap3.icu_outcm, data_ap3.died_icu)"
   ]
  },
  {
   "cell_type": "code",
   "execution_count": null,
   "metadata": {},
   "outputs": [],
   "source": [
    "pd.crosstab(data_ap3.hosp_outcm, data_ap3.died_hosp)"
   ]
  },
  {
   "cell_type": "code",
   "execution_count": null,
   "metadata": {},
   "outputs": [],
   "source": [
    "pd.crosstab(data_ap3.died_icu, data_ap3.died_hosp)"
   ]
  },
  {
   "cell_type": "code",
   "execution_count": null,
   "metadata": {},
   "outputs": [],
   "source": [
    "NewOutputFile=\"ap3subset\"+str(ap3diagnosis)+\".csv\"\n",
    "print (NewOutputFile)\n",
    "data_ap3.to_csv(NewOutputFile.format(data_ap3.shape[0]), index=False)"
   ]
  }
 ],
 "metadata": {
  "kernelspec": {
   "display_name": "Python 3",
   "language": "python",
   "name": "python3"
  },
  "language_info": {
   "codemirror_mode": {
    "name": "ipython",
    "version": 3
   },
   "file_extension": ".py",
   "mimetype": "text/x-python",
   "name": "python",
   "nbconvert_exporter": "python",
   "pygments_lexer": "ipython3",
   "version": "3.7.1"
  }
 },
 "nbformat": 4,
 "nbformat_minor": 2
}
