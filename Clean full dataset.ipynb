{
 "cells": [
  {
   "cell_type": "markdown",
   "metadata": {},
   "source": [
    "To cut down the dataset to APACHE"
   ]
  },
  {
   "cell_type": "code",
   "execution_count": 1,
   "metadata": {},
   "outputs": [
    {
     "name": "stderr",
     "output_type": "stream",
     "text": [
      "Python 3.6.3 :: Intel Corporation\n"
     ]
    }
   ],
   "source": [
    "!python -V"
   ]
  },
  {
   "cell_type": "code",
   "execution_count": 2,
   "metadata": {},
   "outputs": [
    {
     "data": {
      "text/plain": [
       "'0.22.0'"
      ]
     },
     "execution_count": 2,
     "metadata": {},
     "output_type": "execute_result"
    }
   ],
   "source": [
    "import pandas as pd\n",
    "#from sklearn.model_selection import train_test_split\n",
    "\n",
    "pd.__version__"
   ]
  },
  {
   "cell_type": "code",
   "execution_count": 3,
   "metadata": {},
   "outputs": [],
   "source": [
    "data = pd.read_csv('datathon.csv', skipinitialspace=True)\n",
    "data.drop(data.columns[0], axis=1, inplace=True) # drop the first column"
   ]
  },
  {
   "cell_type": "code",
   "execution_count": 4,
   "metadata": {},
   "outputs": [
    {
     "data": {
      "text/plain": [
       "(1196089, 159)"
      ]
     },
     "execution_count": 4,
     "metadata": {},
     "output_type": "execute_result"
    }
   ],
   "source": [
    "data.shape"
   ]
  },
  {
   "cell_type": "code",
   "execution_count": 5,
   "metadata": {},
   "outputs": [
    {
     "data": {
      "text/html": [
       "<div>\n",
       "<style scoped>\n",
       "    .dataframe tbody tr th:only-of-type {\n",
       "        vertical-align: middle;\n",
       "    }\n",
       "\n",
       "    .dataframe tbody tr th {\n",
       "        vertical-align: top;\n",
       "    }\n",
       "\n",
       "    .dataframe thead th {\n",
       "        text-align: right;\n",
       "    }\n",
       "</style>\n",
       "<table border=\"1\" class=\"dataframe\">\n",
       "  <thead>\n",
       "    <tr style=\"text-align: right;\">\n",
       "      <th></th>\n",
       "      <th>hospitalclassificationid</th>\n",
       "      <th>hospitalclassification</th>\n",
       "      <th>publicprivateid</th>\n",
       "      <th>publicprivate</th>\n",
       "      <th>patientid</th>\n",
       "      <th>icuadmityyyymm</th>\n",
       "      <th>icuadmityyyy</th>\n",
       "      <th>icu_ad_dtm</th>\n",
       "      <th>icu_ds_dtm</th>\n",
       "      <th>hosp_ad_dtm</th>\n",
       "      <th>...</th>\n",
       "      <th>neurologicalscore</th>\n",
       "      <th>oxygenationscore</th>\n",
       "      <th>phscore</th>\n",
       "      <th>respiratoryratescore</th>\n",
       "      <th>temperaturescore</th>\n",
       "      <th>ureascore</th>\n",
       "      <th>urineoutputscore</th>\n",
       "      <th>whitecellcountscore</th>\n",
       "      <th>apache2score</th>\n",
       "      <th>bmi</th>\n",
       "    </tr>\n",
       "  </thead>\n",
       "  <tbody>\n",
       "    <tr>\n",
       "      <th>0</th>\n",
       "      <td>2</td>\n",
       "      <td>Metropolitan</td>\n",
       "      <td>4</td>\n",
       "      <td>Public</td>\n",
       "      <td>3800</td>\n",
       "      <td>201004</td>\n",
       "      <td>2010</td>\n",
       "      <td>2010-04-24 05:20:00.000</td>\n",
       "      <td>2010-04-24 14:45:00.000</td>\n",
       "      <td>2010-04-23 22:00:00.000</td>\n",
       "      <td>...</td>\n",
       "      <td>0</td>\n",
       "      <td>0</td>\n",
       "      <td>5</td>\n",
       "      <td>0</td>\n",
       "      <td>0</td>\n",
       "      <td>0</td>\n",
       "      <td>1</td>\n",
       "      <td>0</td>\n",
       "      <td>14.0</td>\n",
       "      <td>NaN</td>\n",
       "    </tr>\n",
       "    <tr>\n",
       "      <th>1</th>\n",
       "      <td>4</td>\n",
       "      <td>Private</td>\n",
       "      <td>3</td>\n",
       "      <td>Private</td>\n",
       "      <td>3808</td>\n",
       "      <td>201009</td>\n",
       "      <td>2010</td>\n",
       "      <td>2010-09-09 10:00:00.000</td>\n",
       "      <td>2010-09-12 13:30:00.000</td>\n",
       "      <td>2010-09-08 12:10:00.000</td>\n",
       "      <td>...</td>\n",
       "      <td>0</td>\n",
       "      <td>14</td>\n",
       "      <td>12</td>\n",
       "      <td>0</td>\n",
       "      <td>2</td>\n",
       "      <td>7</td>\n",
       "      <td>5</td>\n",
       "      <td>0</td>\n",
       "      <td>10.0</td>\n",
       "      <td>NaN</td>\n",
       "    </tr>\n",
       "    <tr>\n",
       "      <th>2</th>\n",
       "      <td>3</td>\n",
       "      <td>Tertiary</td>\n",
       "      <td>4</td>\n",
       "      <td>Public</td>\n",
       "      <td>5806</td>\n",
       "      <td>200611</td>\n",
       "      <td>2006</td>\n",
       "      <td>2006-11-13 17:20:00.000</td>\n",
       "      <td>2006-11-14 19:00:00.000</td>\n",
       "      <td>2006-10-31 12:45:00.000</td>\n",
       "      <td>...</td>\n",
       "      <td>0</td>\n",
       "      <td>7</td>\n",
       "      <td>1</td>\n",
       "      <td>8</td>\n",
       "      <td>2</td>\n",
       "      <td>2</td>\n",
       "      <td>0</td>\n",
       "      <td>0</td>\n",
       "      <td>18.0</td>\n",
       "      <td>NaN</td>\n",
       "    </tr>\n",
       "    <tr>\n",
       "      <th>3</th>\n",
       "      <td>3</td>\n",
       "      <td>Tertiary</td>\n",
       "      <td>4</td>\n",
       "      <td>Public</td>\n",
       "      <td>7718</td>\n",
       "      <td>200607</td>\n",
       "      <td>2006</td>\n",
       "      <td>2006-07-30 17:05:00.000</td>\n",
       "      <td>2006-07-31 16:00:00.000</td>\n",
       "      <td>2006-07-30 12:27:00.000</td>\n",
       "      <td>...</td>\n",
       "      <td>0</td>\n",
       "      <td>0</td>\n",
       "      <td>0</td>\n",
       "      <td>0</td>\n",
       "      <td>0</td>\n",
       "      <td>0</td>\n",
       "      <td>0</td>\n",
       "      <td>0</td>\n",
       "      <td>NaN</td>\n",
       "      <td>NaN</td>\n",
       "    </tr>\n",
       "    <tr>\n",
       "      <th>4</th>\n",
       "      <td>3</td>\n",
       "      <td>Tertiary</td>\n",
       "      <td>4</td>\n",
       "      <td>Public</td>\n",
       "      <td>2947</td>\n",
       "      <td>200708</td>\n",
       "      <td>2007</td>\n",
       "      <td>2007-08-15 02:17:00.000</td>\n",
       "      <td>2007-08-24 12:26:00.000</td>\n",
       "      <td>2007-08-15 02:17:00.000</td>\n",
       "      <td>...</td>\n",
       "      <td>0</td>\n",
       "      <td>0</td>\n",
       "      <td>0</td>\n",
       "      <td>8</td>\n",
       "      <td>2</td>\n",
       "      <td>7</td>\n",
       "      <td>1</td>\n",
       "      <td>0</td>\n",
       "      <td>10.0</td>\n",
       "      <td>NaN</td>\n",
       "    </tr>\n",
       "  </tbody>\n",
       "</table>\n",
       "<p>5 rows × 159 columns</p>\n",
       "</div>"
      ],
      "text/plain": [
       "   hospitalclassificationid hospitalclassification  publicprivateid  \\\n",
       "0                         2           Metropolitan                4   \n",
       "1                         4                Private                3   \n",
       "2                         3               Tertiary                4   \n",
       "3                         3               Tertiary                4   \n",
       "4                         3               Tertiary                4   \n",
       "\n",
       "  publicprivate patientid  icuadmityyyymm  icuadmityyyy  \\\n",
       "0        Public      3800          201004          2010   \n",
       "1       Private      3808          201009          2010   \n",
       "2        Public      5806          200611          2006   \n",
       "3        Public      7718          200607          2006   \n",
       "4        Public      2947          200708          2007   \n",
       "\n",
       "                icu_ad_dtm               icu_ds_dtm              hosp_ad_dtm  \\\n",
       "0  2010-04-24 05:20:00.000  2010-04-24 14:45:00.000  2010-04-23 22:00:00.000   \n",
       "1  2010-09-09 10:00:00.000  2010-09-12 13:30:00.000  2010-09-08 12:10:00.000   \n",
       "2  2006-11-13 17:20:00.000  2006-11-14 19:00:00.000  2006-10-31 12:45:00.000   \n",
       "3  2006-07-30 17:05:00.000  2006-07-31 16:00:00.000  2006-07-30 12:27:00.000   \n",
       "4  2007-08-15 02:17:00.000  2007-08-24 12:26:00.000  2007-08-15 02:17:00.000   \n",
       "\n",
       "  ...  neurologicalscore  oxygenationscore  phscore  respiratoryratescore  \\\n",
       "0 ...                  0                 0        5                     0   \n",
       "1 ...                  0                14       12                     0   \n",
       "2 ...                  0                 7        1                     8   \n",
       "3 ...                  0                 0        0                     0   \n",
       "4 ...                  0                 0        0                     8   \n",
       "\n",
       "  temperaturescore ureascore urineoutputscore  whitecellcountscore  \\\n",
       "0                0         0                1                    0   \n",
       "1                2         7                5                    0   \n",
       "2                2         2                0                    0   \n",
       "3                0         0                0                    0   \n",
       "4                2         7                1                    0   \n",
       "\n",
       "   apache2score  bmi  \n",
       "0          14.0  NaN  \n",
       "1          10.0  NaN  \n",
       "2          18.0  NaN  \n",
       "3           NaN  NaN  \n",
       "4          10.0  NaN  \n",
       "\n",
       "[5 rows x 159 columns]"
      ]
     },
     "execution_count": 5,
     "metadata": {},
     "output_type": "execute_result"
    }
   ],
   "source": [
    "data.head()"
   ]
  },
  {
   "cell_type": "code",
   "execution_count": 6,
   "metadata": {},
   "outputs": [
    {
     "name": "stdout",
     "output_type": "stream",
     "text": [
      "<class 'pandas.core.frame.DataFrame'>\n",
      "RangeIndex: 1196089 entries, 0 to 1196088\n",
      "Data columns (total 159 columns):\n",
      "hospitalclassificationid     1196089 non-null int64\n",
      "hospitalclassification       1196089 non-null object\n",
      "publicprivateid              1196089 non-null int64\n",
      "publicprivate                1196089 non-null object\n",
      "patientid                    1196089 non-null object\n",
      "icuadmityyyymm               1196089 non-null int64\n",
      "icuadmityyyy                 1196089 non-null int64\n",
      "icu_ad_dtm                   1196089 non-null object\n",
      "icu_ds_dtm                   1195580 non-null object\n",
      "hosp_ad_dtm                  1195207 non-null object\n",
      "hosp_ds_dtm                  1165421 non-null object\n",
      "hosp_srce                    1122279 non-null float64\n",
      "hosp_outcm                   1189651 non-null float64\n",
      "hosp_hrs                     1165270 non-null float64\n",
      "sex                          1195847 non-null object\n",
      "prior_icu_ad_dtm             58576 non-null object\n",
      "prior_icu_ds_dtm             58554 non-null object\n",
      "icu_srce                     1194682 non-null float64\n",
      "icu_hrs                      1195580 non-null float64\n",
      "pre_icu_hrs                  1191494 non-null float64\n",
      "icu_ds_dec_dtm               669565 non-null object\n",
      "discharge_delay_hrs          667810 non-null float64\n",
      "readmission_lag_hrs          56764 non-null float64\n",
      "icu_outcm                    1189484 non-null float64\n",
      "readmitted                   1196089 non-null int64\n",
      "died_icu                     1189484 non-null float64\n",
      "died_hosp                    1189651 non-null float64\n",
      "age                          1196033 non-null float64\n",
      "elect                        1190817 non-null float64\n",
      "chr_resp                     1196089 non-null int64\n",
      "chr_cvs                      1196089 non-null int64\n",
      "chr_liv                      1196089 non-null int64\n",
      "chr_ren                      1196089 non-null int64\n",
      "immundis                     1196089 non-null int64\n",
      "immunrx                      1196089 non-null int64\n",
      "aids                         1196089 non-null int64\n",
      "hepfail                      1196089 non-null int64\n",
      "lymphoma                     1196089 non-null int64\n",
      "metast                       1196089 non-null int64\n",
      "leukaem                      1196089 non-null int64\n",
      "immunsup                     1196089 non-null int64\n",
      "cirrhos                      1196089 non-null int64\n",
      "iddm                         866374 non-null float64\n",
      "careunit                     1146366 non-null float64\n",
      "caretype                     1178457 non-null float64\n",
      "weight                       261534 non-null float64\n",
      "height                       214799 non-null float64\n",
      "preg_stat                    157884 non-null float64\n",
      "thrombpro                    810549 non-null float64\n",
      "emg_rsp_adm                  956978 non-null float64\n",
      "treat_lmt                    986330 non-null float64\n",
      "cardarrest                   1096188 non-null float64\n",
      "resparrest                   1075655 non-null float64\n",
      "indigenous                   959941 non-null float64\n",
      "smokingstatus                207717 non-null float64\n",
      "smokingintensity             85381 non-null float64\n",
      "arf                          1191807 non-null float64\n",
      "intubated                    1189778 non-null float64\n",
      "ventilated                   1190703 non-null float64\n",
      "gcsverb                      1123009 non-null float64\n",
      "gcsmotor                     1123212 non-null float64\n",
      "gcseye                       1123182 non-null float64\n",
      "gcs                          1125864 non-null float64\n",
      "temp_ap2                     1155154 non-null float64\n",
      "temp_anz                     1155692 non-null float64\n",
      "map_ap2                      1155807 non-null float64\n",
      "map_anz                      1156992 non-null float64\n",
      "hr_ap2                       1155655 non-null float64\n",
      "hr_anz                       1157053 non-null float64\n",
      "rr_ap2                       1150146 non-null float64\n",
      "rr_anz                       1152339 non-null float64\n",
      "fio2_ap2                     893593 non-null float64\n",
      "fio2_anz                     889286 non-null float64\n",
      "pao2_ap2                     893517 non-null float64\n",
      "pao2_anz                     887629 non-null float64\n",
      "paco2_ap2                    893205 non-null float64\n",
      "paco2_anz                    888009 non-null float64\n",
      "ph_ap2                       895383 non-null float64\n",
      "ph_anz                       891135 non-null float64\n",
      "hco3_ap2                     1089518 non-null float64\n",
      "na_ap2                       1136627 non-null float64\n",
      "na_anz                       1139969 non-null float64\n",
      "k_ap2                        1135533 non-null float64\n",
      "creat_ap2                    1129753 non-null float64\n",
      "creat_anz                    1132566 non-null float64\n",
      "hct_ap2                      1098052 non-null float64\n",
      "hct_anz                      1100754 non-null float64\n",
      "wcc_ap2                      1127381 non-null float64\n",
      "wcc_anz                      1130746 non-null float64\n",
      "urea_anz                     1121464 non-null float64\n",
      "urineop                      1065174 non-null float64\n",
      "albumin_anz                  1086010 non-null float64\n",
      "bili_anz                     1005127 non-null float64\n",
      "glucose_anz                  1065094 non-null float64\n",
      "ap3co2p                      885504 non-null float64\n",
      "temphi                       1097317 non-null float64\n",
      "templo                       1076759 non-null float64\n",
      "hrhi                         1105247 non-null float64\n",
      "hrlo                         1073949 non-null float64\n",
      "rrhi                         1096465 non-null float64\n",
      "rrlo                         1073549 non-null float64\n",
      "systolichi                   1087189 non-null float64\n",
      "systoliclo                   1060745 non-null float64\n",
      "diastolichi                  1070990 non-null float64\n",
      "diastoliclo                  1046040 non-null float64\n",
      "maphi                        1097155 non-null float64\n",
      "maplo                        1070797 non-null float64\n",
      "nahi                         1088055 non-null float64\n",
      "nalo                         983521 non-null float64\n",
      "khi                          1086764 non-null float64\n",
      "klo                          981513 non-null float64\n",
      "hco3hi                       1051752 non-null float64\n",
      "hco3lo                       950535 non-null float64\n",
      "creathi                      1078395 non-null float64\n",
      "creatlo                      961964 non-null float64\n",
      "hcthi                        992151 non-null float64\n",
      "hctlo                        903984 non-null float64\n",
      "hmgnhi                       909475 non-null float64\n",
      "hmgnlo                       802863 non-null float64\n",
      "wcchi                        1075568 non-null float64\n",
      "wcclo                        953398 non-null float64\n",
      "plathi                       919510 non-null float64\n",
      "platlo                       806745 non-null float64\n",
      "gluchi                       1037289 non-null float64\n",
      "gluclo                       955018 non-null float64\n",
      "ap2diag                      1159724 non-null float64\n",
      "ap3diag                      1171055 non-null float64\n",
      "ap3_subcode                  754328 non-null float64\n",
      "cabg_graft                   90154 non-null float64\n",
      "cabg_redo                    157781 non-null float64\n",
      "thromb_therapy               103306 non-null float64\n",
      "icuadmitfinyr                1196089 non-null object\n",
      "admepisode                   1196089 non-null int64\n",
      "apache3riskofdeath           1155390 non-null float64\n",
      "apache3score                 1169869 non-null float64\n",
      "apache3isincluded            1196089 non-null int64\n",
      "apache3issmr                 1196089 non-null int64\n",
      "anzrodriskofdeath            1169867 non-null float64\n",
      "anzrodisincluded             1196089 non-null int64\n",
      "anzrodissmr                  1196089 non-null int64\n",
      "agescore                     1196089 non-null int64\n",
      "albuminscore                 1196089 non-null int64\n",
      "bilirubinscore               1196089 non-null int64\n",
      "creatininescore              1196089 non-null int64\n",
      "glucosescore                 1196089 non-null int64\n",
      "haematocritscore             1196089 non-null int64\n",
      "heartratescore               1196089 non-null int64\n",
      "meanarterialpressurescore    1196089 non-null int64\n",
      "sodiumscore                  1196089 non-null int64\n",
      "neurologicalscore            1196089 non-null int64\n",
      "oxygenationscore             1196089 non-null int64\n",
      "phscore                      1196089 non-null int64\n",
      "respiratoryratescore         1196089 non-null int64\n",
      "temperaturescore             1196089 non-null int64\n",
      "ureascore                    1196089 non-null int64\n",
      "urineoutputscore             1196089 non-null int64\n",
      "whitecellcountscore          1196089 non-null int64\n",
      "apache2score                 1169915 non-null float64\n",
      "bmi                          212840 non-null float64\n",
      "dtypes: float64(107), int64(40), object(12)\n",
      "memory usage: 1.4+ GB\n"
     ]
    }
   ],
   "source": [
    "data.info(max_cols=data.shape[1])"
   ]
  },
  {
   "cell_type": "code",
   "execution_count": 7,
   "metadata": {},
   "outputs": [
    {
     "data": {
      "text/plain": [
       "(1056425, 159)"
      ]
     },
     "execution_count": 7,
     "metadata": {},
     "output_type": "execute_result"
    }
   ],
   "source": [
    "#data = data_clean\n",
    "data = data.dropna(subset=['died_hosp'])\n",
    "data = data.dropna(subset=['anzrodriskofdeath'])\n",
    "data = data.dropna(subset=['apache3score'])\n",
    "data = data.dropna(subset=['gcs'])\n",
    "data = data.dropna(subset=['sex'])\n",
    "data = data[(data.readmitted==0)] #remove readmissions (as per ANZROD)\n",
    "data = data[(data.age>=16)] #remove age beow 16 (as per ANZROD)  \n",
    "data = data[(data.treat_lmt!=3)] #remove palliative\n",
    "data_cleaned=data\n",
    "data_cleaned.shape"
   ]
  },
  {
   "cell_type": "code",
   "execution_count": 8,
   "metadata": {},
   "outputs": [
    {
     "data": {
      "text/html": [
       "<div>\n",
       "<style scoped>\n",
       "    .dataframe tbody tr th:only-of-type {\n",
       "        vertical-align: middle;\n",
       "    }\n",
       "\n",
       "    .dataframe tbody tr th {\n",
       "        vertical-align: top;\n",
       "    }\n",
       "\n",
       "    .dataframe thead th {\n",
       "        text-align: right;\n",
       "    }\n",
       "</style>\n",
       "<table border=\"1\" class=\"dataframe\">\n",
       "  <thead>\n",
       "    <tr style=\"text-align: right;\">\n",
       "      <th>died_hosp</th>\n",
       "      <th>0.0</th>\n",
       "      <th>1.0</th>\n",
       "    </tr>\n",
       "    <tr>\n",
       "      <th>died_icu</th>\n",
       "      <th></th>\n",
       "      <th></th>\n",
       "    </tr>\n",
       "  </thead>\n",
       "  <tbody>\n",
       "    <tr>\n",
       "      <th>0.0</th>\n",
       "      <td>0.963745</td>\n",
       "      <td>0.036255</td>\n",
       "    </tr>\n",
       "    <tr>\n",
       "      <th>1.0</th>\n",
       "      <td>0.000454</td>\n",
       "      <td>0.999546</td>\n",
       "    </tr>\n",
       "  </tbody>\n",
       "</table>\n",
       "</div>"
      ],
      "text/plain": [
       "died_hosp       0.0       1.0\n",
       "died_icu                     \n",
       "0.0        0.963745  0.036255\n",
       "1.0        0.000454  0.999546"
      ]
     },
     "execution_count": 8,
     "metadata": {},
     "output_type": "execute_result"
    }
   ],
   "source": [
    "pd.crosstab(data_cleaned.died_icu, data_cleaned.died_hosp, normalize=0)"
   ]
  },
  {
   "cell_type": "code",
   "execution_count": 9,
   "metadata": {},
   "outputs": [
    {
     "data": {
      "text/plain": [
       "(1056396, 159)"
      ]
     },
     "execution_count": 9,
     "metadata": {},
     "output_type": "execute_result"
    }
   ],
   "source": [
    "data_cleaned = data_cleaned[\n",
    "    ~((data_cleaned.died_icu == 1) & (data_cleaned.died_hosp == 0))\n",
    "]\n",
    "data_cleaned.shape"
   ]
  },
  {
   "cell_type": "code",
   "execution_count": 10,
   "metadata": {},
   "outputs": [],
   "source": [
    "# save the cleaned dataset\n",
    "data_cleaned.to_csv('datathon_cleaned.csv'.format(data_cleaned.shape[0]), index=False)"
   ]
  },
  {
   "cell_type": "code",
   "execution_count": 11,
   "metadata": {
    "scrolled": true
   },
   "outputs": [
    {
     "data": {
      "text/plain": [
       "array(['hospitalclassificationid', 'hospitalclassification',\n",
       "       'publicprivateid', 'publicprivate', 'patientid', 'icuadmityyyymm',\n",
       "       'icuadmityyyy', 'icu_ad_dtm', 'icu_ds_dtm', 'hosp_ad_dtm',\n",
       "       'hosp_ds_dtm', 'hosp_srce', 'hosp_outcm', 'hosp_hrs', 'sex',\n",
       "       'prior_icu_ad_dtm', 'prior_icu_ds_dtm', 'icu_srce', 'icu_hrs',\n",
       "       'pre_icu_hrs', 'icu_ds_dec_dtm', 'discharge_delay_hrs',\n",
       "       'readmission_lag_hrs', 'icu_outcm', 'readmitted', 'died_icu',\n",
       "       'died_hosp', 'age', 'elect', 'chr_resp', 'chr_cvs', 'chr_liv',\n",
       "       'chr_ren', 'immundis', 'immunrx', 'aids', 'hepfail', 'lymphoma',\n",
       "       'metast', 'leukaem', 'immunsup', 'cirrhos', 'iddm', 'careunit',\n",
       "       'caretype', 'weight', 'height', 'preg_stat', 'thrombpro',\n",
       "       'emg_rsp_adm', 'treat_lmt', 'cardarrest', 'resparrest',\n",
       "       'indigenous', 'smokingstatus', 'smokingintensity', 'arf',\n",
       "       'intubated', 'ventilated', 'gcsverb', 'gcsmotor', 'gcseye', 'gcs',\n",
       "       'temp_ap2', 'temp_anz', 'map_ap2', 'map_anz', 'hr_ap2', 'hr_anz',\n",
       "       'rr_ap2', 'rr_anz', 'fio2_ap2', 'fio2_anz', 'pao2_ap2', 'pao2_anz',\n",
       "       'paco2_ap2', 'paco2_anz', 'ph_ap2', 'ph_anz', 'hco3_ap2', 'na_ap2',\n",
       "       'na_anz', 'k_ap2', 'creat_ap2', 'creat_anz', 'hct_ap2', 'hct_anz',\n",
       "       'wcc_ap2', 'wcc_anz', 'urea_anz', 'urineop', 'albumin_anz',\n",
       "       'bili_anz', 'glucose_anz', 'ap3co2p', 'temphi', 'templo', 'hrhi',\n",
       "       'hrlo', 'rrhi', 'rrlo', 'systolichi', 'systoliclo', 'diastolichi',\n",
       "       'diastoliclo', 'maphi', 'maplo', 'nahi', 'nalo', 'khi', 'klo',\n",
       "       'hco3hi', 'hco3lo', 'creathi', 'creatlo', 'hcthi', 'hctlo',\n",
       "       'hmgnhi', 'hmgnlo', 'wcchi', 'wcclo', 'plathi', 'platlo', 'gluchi',\n",
       "       'gluclo', 'ap2diag', 'ap3diag', 'ap3_subcode', 'cabg_graft',\n",
       "       'cabg_redo', 'thromb_therapy', 'icuadmitfinyr', 'admepisode',\n",
       "       'apache3riskofdeath', 'apache3score', 'apache3isincluded',\n",
       "       'apache3issmr', 'anzrodriskofdeath', 'anzrodisincluded',\n",
       "       'anzrodissmr', 'agescore', 'albuminscore', 'bilirubinscore',\n",
       "       'creatininescore', 'glucosescore', 'haematocritscore',\n",
       "       'heartratescore', 'meanarterialpressurescore', 'sodiumscore',\n",
       "       'neurologicalscore', 'oxygenationscore', 'phscore',\n",
       "       'respiratoryratescore', 'temperaturescore', 'ureascore',\n",
       "       'urineoutputscore', 'whitecellcountscore', 'apache2score', 'bmi'],\n",
       "      dtype=object)"
      ]
     },
     "execution_count": 11,
     "metadata": {},
     "output_type": "execute_result"
    }
   ],
   "source": [
    "data_cleaned.columns.values"
   ]
  },
  {
   "cell_type": "markdown",
   "metadata": {},
   "source": [
    "## Variable Groups\n",
    "\n",
    "Firstly is the direct AP3 scores, using the ap3diagnosis column, noting this includes ANZICS diagnoses.\n",
    "\n",
    "**Chronic Health** is per item, rather than exactly what is in the APACHE score which weights each variable.\n",
    "\n",
    "**Sex** is not usually in the score - included here as a separate so can be easily added to show the advantage of doing so\n",
    "\n",
    "**Date** is also not usually included - added here as data shows it matters, and this data set spans many years.\n",
    "\n",
    "**ANZROD1** adds the extra variables that worked in the ANZROD paper\n",
    "\n",
    "**apache3-raw** uses the raw values only - the ANZ values are included for those parameters where they are the only value\n",
    "\n",
    "**anz_raw** uses the ANZ values (if available) over the raw values"
   ]
  },
  {
   "cell_type": "code",
   "execution_count": 12,
   "metadata": {},
   "outputs": [],
   "source": [
    "apache3score_vars = ['ap3diag', 'icu_srce', 'elect',\n",
    "       'agescore', 'albuminscore', 'bilirubinscore',\n",
    "       'creatininescore', 'glucosescore', 'haematocritscore',\n",
    "       'heartratescore', 'meanarterialpressurescore', 'sodiumscore',\n",
    "       'neurologicalscore', 'oxygenationscore', 'phscore',\n",
    "       'respiratoryratescore', 'temperaturescore', 'ureascore',\n",
    "       'urineoutputscore', 'whitecellcountscore']\n",
    "\n",
    "chronic_health_vars = ['chr_resp', 'chr_cvs', 'chr_liv',\n",
    "       'chr_ren', 'immundis', 'immunrx', 'aids', 'hepfail', 'lymphoma',\n",
    "       'metast', 'leukaem', 'immunsup', 'cirrhos', 'iddm']\n",
    "\n",
    "sex_var = ['sex']\n",
    "\n",
    "date_var = ['icuadmityyyy']\n",
    "\n",
    "target_var = ['died_hosp']\n",
    "\n",
    "anzrod1_vars = [ 'treat_lmt', 'icuadmityyyy', 'hosp_srce', 'intubated', 'pre_icu_hrs', 'sex'] #not sure if year was included, however is important\n",
    "\n",
    "apache3_raw_vars =  ['ap3diag', 'icu_srce', 'elect', 'age', 'gcsverb', 'gcsmotor', 'gcseye',\n",
    "       'fio2_anz', 'pao2_anz', 'paco2_anz', 'ph_anz',\n",
    "        'urea_anz', 'urineop', 'albumin_anz',\n",
    "       'bili_anz', 'temphi', 'templo', 'hrhi','hrlo', 'rrhi', 'rrlo', \n",
    "       'systolichi', 'systoliclo', 'diastolichi','diastoliclo', 'maphi', 'maplo', \n",
    "        'nahi', 'nalo', 'khi', 'klo', 'gluchi','gluclo',\n",
    "       'hco3hi', 'hco3lo', 'hcthi', 'hctlo', 'creathi', 'creatlo',\n",
    "       'hmgnhi', 'hmgnlo', 'wcchi', 'wcclo', 'plathi', 'platlo']\n",
    "\n",
    "anz_raw_vars = ['ap3diag', 'icu_srce', 'elect', 'age', 'gcsverb', 'gcsmotor', 'gcseye',\n",
    "       'fio2_anz', 'pao2_anz', 'paco2_anz', 'temp_anz', 'ph_anz','na_anz',\n",
    "       'rr_anz', 'hr_anz', 'hct_anz', 'creat_anz',      \n",
    "       'wcc_anz', 'urea_anz', 'urineop', 'albumin_anz', 'glucose_anz', 'bili_anz', \n",
    "       'systolichi', 'systoliclo', 'diastolichi',\n",
    "       'diastoliclo', 'maphi', 'maplo',  'khi', 'klo',\n",
    "       'hco3hi', 'hco3lo','hmgnhi', 'hmgnlo', 'plathi', 'platlo']\n",
    "\n",
    "#anz_raw_vars= anz values if exist"
   ]
  },
  {
   "cell_type": "code",
   "execution_count": 13,
   "metadata": {},
   "outputs": [
    {
     "data": {
      "text/plain": [
       "(1056396, 35)"
      ]
     },
     "execution_count": 13,
     "metadata": {},
     "output_type": "execute_result"
    }
   ],
   "source": [
    "data_ap3 = data_cleaned[apache3score_vars + chronic_health_vars + target_var]\n",
    "data_ap3.shape"
   ]
  },
  {
   "cell_type": "code",
   "execution_count": 14,
   "metadata": {},
   "outputs": [
    {
     "data": {
      "text/plain": [
       "(1056396, 36)"
      ]
     },
     "execution_count": 14,
     "metadata": {},
     "output_type": "execute_result"
    }
   ],
   "source": [
    "data_ap3s = data_cleaned[apache3score_vars + sex_var + chronic_health_vars + target_var]\n",
    "data_ap3s.shape"
   ]
  },
  {
   "cell_type": "code",
   "execution_count": 15,
   "metadata": {},
   "outputs": [
    {
     "data": {
      "text/plain": [
       "(1056396, 37)"
      ]
     },
     "execution_count": 15,
     "metadata": {},
     "output_type": "execute_result"
    }
   ],
   "source": [
    "data_ap3sd = data_cleaned[apache3score_vars + sex_var + date_var + chronic_health_vars + target_var]\n",
    "data_ap3sd.shape"
   ]
  },
  {
   "cell_type": "code",
   "execution_count": 16,
   "metadata": {},
   "outputs": [
    {
     "data": {
      "text/plain": [
       "(1056396, 41)"
      ]
     },
     "execution_count": 16,
     "metadata": {},
     "output_type": "execute_result"
    }
   ],
   "source": [
    "data_anzrod1 = data_cleaned[apache3score_vars + chronic_health_vars + anzrod1_vars + target_var]\n",
    "data_anzrod1.shape"
   ]
  },
  {
   "cell_type": "code",
   "execution_count": 17,
   "metadata": {},
   "outputs": [
    {
     "data": {
      "text/plain": [
       "(1056396, 66)"
      ]
     },
     "execution_count": 17,
     "metadata": {},
     "output_type": "execute_result"
    }
   ],
   "source": [
    "data_anzrod2 = data_cleaned[apache3_raw_vars + chronic_health_vars + anzrod1_vars + target_var]\n",
    "data_anzrod2.shape"
   ]
  },
  {
   "cell_type": "code",
   "execution_count": 18,
   "metadata": {},
   "outputs": [
    {
     "data": {
      "text/plain": [
       "(1056396, 58)"
      ]
     },
     "execution_count": 18,
     "metadata": {},
     "output_type": "execute_result"
    }
   ],
   "source": [
    "data_anzrod3 = data_cleaned[anz_raw_vars + chronic_health_vars + anzrod1_vars + target_var]\n",
    "data_anzrod3.shape"
   ]
  },
  {
   "cell_type": "code",
   "execution_count": 19,
   "metadata": {},
   "outputs": [],
   "source": [
    "# save the  datasets\n",
    "data_ap3.to_csv('datathon_ap3.csv'.format(data_ap3.shape[0]), index=False)\n",
    "#\n",
    "data_ap3s.to_csv('datathon_ap3s.csv'.format(data_ap3s.shape[0]), index=False)\n",
    "#\n",
    "data_ap3sd.to_csv('datathon_ap3sd.csv'.format(data_ap3sd.shape[0]), index=False)\n",
    "#\n",
    "data_anzrod1.to_csv('datathon_anzrod1.csv'.format(data_anzrod1.shape[0]), index=False)\n",
    "#\n",
    "data_anzrod2.to_csv('datathon_anzrod2.csv'.format(data_anzrod2.shape[0]), index=False)\n",
    "#\n",
    "data_anzrod3.to_csv('datathon_anzrod3.csv'.format(data_anzrod3.shape[0]), index=False)"
   ]
  }
 ],
 "metadata": {
  "kernelspec": {
   "display_name": "Python 3",
   "language": "python",
   "name": "python3"
  },
  "language_info": {
   "codemirror_mode": {
    "name": "ipython",
    "version": 3
   },
   "file_extension": ".py",
   "mimetype": "text/x-python",
   "name": "python",
   "nbconvert_exporter": "python",
   "pygments_lexer": "ipython3",
   "version": "3.7.1"
  }
 },
 "nbformat": 4,
 "nbformat_minor": 2
}
