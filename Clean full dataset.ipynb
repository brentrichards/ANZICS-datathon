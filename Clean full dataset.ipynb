{
 "cells": [
  {
   "cell_type": "markdown",
   "metadata": {},
   "source": [
    "To cut down the dataset to APACHE"
   ]
  },
  {
   "cell_type": "code",
   "execution_count": null,
   "metadata": {},
   "outputs": [],
   "source": [
    "!python -V"
   ]
  },
  {
   "cell_type": "code",
   "execution_count": null,
   "metadata": {},
   "outputs": [],
   "source": [
    "import pandas as pd\n",
    "#from sklearn.model_selection import train_test_split\n",
    "\n",
    "pd.__version__"
   ]
  },
  {
   "cell_type": "code",
   "execution_count": null,
   "metadata": {},
   "outputs": [],
   "source": [
    "data = pd.read_csv('datathon.csv', skipinitialspace=True)\n",
    "data.drop(data.columns[0], axis=1, inplace=True) # drop the first column"
   ]
  },
  {
   "cell_type": "code",
   "execution_count": null,
   "metadata": {},
   "outputs": [],
   "source": [
    "data.shape"
   ]
  },
  {
   "cell_type": "code",
   "execution_count": null,
   "metadata": {},
   "outputs": [],
   "source": [
    "data.head()"
   ]
  },
  {
   "cell_type": "code",
   "execution_count": null,
   "metadata": {},
   "outputs": [],
   "source": [
    "data.info(max_cols=data.shape[1])"
   ]
  },
  {
   "cell_type": "code",
   "execution_count": null,
   "metadata": {},
   "outputs": [],
   "source": [
    "#data = data_clean\n",
    "data = data.dropna(subset=['died_hosp'])\n",
    "data = data.dropna(subset=['anzrodriskofdeath'])\n",
    "data = data.dropna(subset=['apache3score'])\n",
    "data = data.dropna(subset=['gcs'])\n",
    "data = data.dropna(subset=['sex'])\n",
    "data = data[(data.readmitted==0)] #remove readmissions (as per ANZROD)\n",
    "data = data[(data.age>=16)] #remove age beow 16 (as per ANZROD)  \n",
    "data = data[(data.treat_lmt!=3)] #remove palliative\n",
    "data_cleaned=data\n",
    "data_cleaned.shape"
   ]
  },
  {
   "cell_type": "code",
   "execution_count": null,
   "metadata": {},
   "outputs": [],
   "source": [
    "pd.crosstab(data_cleaned.died_icu, data_cleaned.died_hosp, normalize=0)"
   ]
  },
  {
   "cell_type": "code",
   "execution_count": null,
   "metadata": {},
   "outputs": [],
   "source": [
    "data_cleaned = data_cleaned[\n",
    "    ~((data_cleaned.died_icu == 1) & (data_cleaned.died_hosp == 0))\n",
    "]\n",
    "data_cleaned.shape"
   ]
  },
  {
   "cell_type": "code",
   "execution_count": null,
   "metadata": {},
   "outputs": [],
   "source": [
    "# save the cleaned dataset\n",
    "data_cleaned.to_csv('datathon_cleaned.csv'.format(data_cleaned.shape[0]), index=False)"
   ]
  },
  {
   "cell_type": "code",
   "execution_count": null,
   "metadata": {
    "scrolled": true
   },
   "outputs": [],
   "source": [
    "data_cleaned.columns.values"
   ]
  },
  {
   "cell_type": "markdown",
   "metadata": {},
   "source": [
    "## Variable Groups\n",
    "\n",
    "Firstly is the direct AP3 scores, using the ap3diagnosis column, noting this includes ANZICS diagnoses.\n",
    "\n",
    "**Chronic Health** is per item, rather than exactly what is in the APACHE score which weights each variable.\n",
    "\n",
    "**Sex** is not usually in the score - included here as a separate so can be easily added to show the advantage of doing so\n",
    "\n",
    "**Date** is also not usually included - added here as data shows it matters, and this data set spans many years.\n",
    "\n",
    "**ANZROD1** adds the extra variables that worked in the ANZROD paper\n",
    "\n",
    "**apache3-raw** uses the raw values only - the ANZ values are included for those parameters where they are the only value\n",
    "\n",
    "**anz_raw** uses the ANZ values (if available) over the raw values"
   ]
  },
  {
   "cell_type": "code",
   "execution_count": null,
   "metadata": {},
   "outputs": [],
   "source": [
    "apache3score_vars = ['ap3diag', 'icu_srce', 'elect',\n",
    "       'agescore', 'albuminscore', 'bilirubinscore',\n",
    "       'creatininescore', 'glucosescore', 'haematocritscore',\n",
    "       'heartratescore', 'meanarterialpressurescore', 'sodiumscore',\n",
    "       'neurologicalscore', 'oxygenationscore', 'phscore',\n",
    "       'respiratoryratescore', 'temperaturescore', 'ureascore',\n",
    "       'urineoutputscore', 'whitecellcountscore']\n",
    "\n",
    "chronic_health_vars = ['chr_resp', 'chr_cvs', 'chr_liv',\n",
    "       'chr_ren', 'immundis', 'immunrx', 'aids', 'hepfail', 'lymphoma',\n",
    "       'metast', 'leukaem', 'immunsup', 'cirrhos', 'iddm']\n",
    "\n",
    "sex_var = ['sex']\n",
    "\n",
    "date_var = ['icuadmityyyy']\n",
    "\n",
    "target_var = ['died_hosp']\n",
    "\n",
    "anzrod1_vars = [ 'treat_lmt', 'icuadmityyyy', 'hosp_srce', 'intubated', 'pre_icu_hrs', 'sex'] #not sure if year was included, however is important\n",
    "\n",
    "apache3_raw_vars =  ['ap3diag', 'icu_srce', 'elect', 'age', 'gcsverb', 'gcsmotor', 'gcseye',\n",
    "       'fio2_anz', 'pao2_anz', 'paco2_anz', 'ph_anz',\n",
    "        'urea_anz', 'urineop', 'albumin_anz',\n",
    "       'bili_anz', 'temphi', 'templo', 'hrhi','hrlo', 'rrhi', 'rrlo', \n",
    "       'systolichi', 'systoliclo', 'diastolichi','diastoliclo', 'maphi', 'maplo', \n",
    "        'nahi', 'nalo', 'khi', 'klo', 'gluchi','gluclo',\n",
    "       'hco3hi', 'hco3lo', 'hcthi', 'hctlo', 'creathi', 'creatlo',\n",
    "       'hmgnhi', 'hmgnlo', 'wcchi', 'wcclo', 'plathi', 'platlo']\n",
    "\n",
    "anz_raw_vars = ['ap3diag', 'icu_srce', 'elect', 'age', 'gcsverb', 'gcsmotor', 'gcseye',\n",
    "       'fio2_anz', 'pao2_anz', 'paco2_anz', 'temp_anz', 'ph_anz','na_anz',\n",
    "       'rr_anz', 'hr_anz', 'hct_anz', 'creat_anz',      \n",
    "       'wcc_anz', 'urea_anz', 'urineop', 'albumin_anz', 'glucose_anz', 'bili_anz', \n",
    "       'systolichi', 'systoliclo', 'diastolichi',\n",
    "       'diastoliclo', 'maphi', 'maplo',  'khi', 'klo',\n",
    "       'hco3hi', 'hco3lo','hmgnhi', 'hmgnlo', 'plathi', 'platlo']\n",
    "\n",
    "#anz_raw_vars= anz values if exist"
   ]
  },
  {
   "cell_type": "code",
   "execution_count": null,
   "metadata": {},
   "outputs": [],
   "source": [
    "data_ap3 = data_cleaned[apache3score_vars + chronic_health_vars + target_var]\n",
    "data_ap3.shape"
   ]
  },
  {
   "cell_type": "code",
   "execution_count": null,
   "metadata": {},
   "outputs": [],
   "source": [
    "data_ap3s = data_cleaned[apache3score_vars + sex_var + chronic_health_vars + target_var]\n",
    "data_ap3s.shape"
   ]
  },
  {
   "cell_type": "code",
   "execution_count": null,
   "metadata": {},
   "outputs": [],
   "source": [
    "data_ap3sd = data_cleaned[apache3score_vars + sex_var + date_var + chronic_health_vars + target_var]\n",
    "data_ap3sd.shape"
   ]
  },
  {
   "cell_type": "code",
   "execution_count": null,
   "metadata": {},
   "outputs": [],
   "source": [
    "data_anzrod1 = data_cleaned[apache3score_vars + chronic_health_vars + anzrod1_vars + target_var]\n",
    "data_anzrod1.shape"
   ]
  },
  {
   "cell_type": "code",
   "execution_count": null,
   "metadata": {},
   "outputs": [],
   "source": [
    "data_anzrod2 = data_cleaned[apache3_raw_vars + chronic_health_vars + anzrod1_vars + target_var]\n",
    "data_anzrod2.shape"
   ]
  },
  {
   "cell_type": "code",
   "execution_count": null,
   "metadata": {},
   "outputs": [],
   "source": [
    "data_anzrod3 = data_cleaned[anz_raw_vars + chronic_health_vars + anzrod1_vars + target_var]\n",
    "data_anzrod3.shape"
   ]
  },
  {
   "cell_type": "code",
   "execution_count": null,
   "metadata": {},
   "outputs": [],
   "source": [
    "# save the  datasets\n",
    "data_ap3.to_csv('datathon_ap3.csv'.format(data_ap3.shape[0]), index=False)\n",
    "#\n",
    "data_ap3s.to_csv('datathon_ap3s.csv'.format(data_ap3s.shape[0]), index=False)\n",
    "#\n",
    "data_ap3sd.to_csv('datathon_ap3sd.csv'.format(data_ap3sd.shape[0]), index=False)\n",
    "#\n",
    "data_anzrod1.to_csv('datathon_anzrod1.csv'.format(data_anzrod1.shape[0]), index=False)\n",
    "#\n",
    "data_anzrod2.to_csv('datathon_anzrod2.csv'.format(data_anzrod2.shape[0]), index=False)\n",
    "#\n",
    "data_anzrod3.to_csv('datathon_anzrod3.csv'.format(data_anzrod3.shape[0]), index=False)"
   ]
  }
 ],
 "metadata": {
  "kernelspec": {
   "display_name": "Python 3",
   "language": "python",
   "name": "python3"
  },
  "language_info": {
   "codemirror_mode": {
    "name": "ipython",
    "version": 3
   },
   "file_extension": ".py",
   "mimetype": "text/x-python",
   "name": "python",
   "nbconvert_exporter": "python",
   "pygments_lexer": "ipython3",
   "version": "3.7.1"
  }
 },
 "nbformat": 4,
 "nbformat_minor": 2
}
