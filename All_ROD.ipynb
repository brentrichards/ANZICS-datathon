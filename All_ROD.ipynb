{
 "cells": [
  {
   "cell_type": "markdown",
   "metadata": {},
   "source": [
    "This is all patients, ROD"
   ]
  },
  {
   "cell_type": "code",
   "execution_count": null,
   "metadata": {},
   "outputs": [],
   "source": [
    "!python -V"
   ]
  },
  {
   "cell_type": "code",
   "execution_count": null,
   "metadata": {},
   "outputs": [],
   "source": [
    "%matplotlib inline\n",
    "import pandas as pd\n",
    "import matplotlib.pyplot as plt\n",
    "print('pandas version:', pd.__version__)"
   ]
  },
  {
   "cell_type": "code",
   "execution_count": null,
   "metadata": {},
   "outputs": [],
   "source": [
    "plt.style.use('ggplot')\n",
    "plt.rcParams['figure.figsize'] = 12, 8\n",
    "plt.rcParams['axes.labelsize'] = 14\n",
    "plt.rcParams['xtick.labelsize'] = 12\n",
    "plt.rcParams['ytick.labelsize'] = 12\n",
    "plt.rcParams['legend.fontsize'] = 12"
   ]
  },
  {
   "cell_type": "code",
   "execution_count": null,
   "metadata": {},
   "outputs": [],
   "source": [
    "data_clean = pd.read_csv('datathon.csv')\n",
    "data_clean.shape"
   ]
  },
  {
   "cell_type": "code",
   "execution_count": null,
   "metadata": {},
   "outputs": [],
   "source": [
    "# now to drop all NAs in died_hosp, score column\n",
    "data = data_clean\n",
    "data = data.dropna(subset=['died_hosp'])\n",
    "data = data.dropna(subset=['anzrodriskofdeath'])\n",
    "data = data.dropna(subset=['apache3score'])\n",
    "data.shape"
   ]
  },
  {
   "cell_type": "code",
   "execution_count": null,
   "metadata": {},
   "outputs": [],
   "source": [
    "def plot_class_broke_down_hist(df, var, xlog=False, ylog=False, **histkwargs):\n",
    "    df[var][df.died_hosp == 0].hist(alpha=.5, label='survived', color = \"green\", **histkwargs)\n",
    "    df[var][df.died_hosp == 1].hist(alpha=.5, label='died', color = \"red\", **histkwargs)\n",
    "    plt.xlabel(var)\n",
    "    if xlog:\n",
    "        plt.xscale('log')\n",
    "    if ylog:\n",
    "        plt.yscale('log')\n",
    "    plt.legend();"
   ]
  },
  {
   "cell_type": "code",
   "execution_count": null,
   "metadata": {},
   "outputs": [],
   "source": [
    "plot_class_broke_down_hist(data, 'anzrodriskofdeath', bins=100)"
   ]
  },
  {
   "cell_type": "code",
   "execution_count": null,
   "metadata": {},
   "outputs": [],
   "source": [
    "plot_class_broke_down_hist(data, 'apache3score', bins=100)"
   ]
  },
  {
   "cell_type": "code",
   "execution_count": null,
   "metadata": {},
   "outputs": [],
   "source": [
    "plot_class_broke_down_hist(data, 'apache3riskofdeath', bins=100)"
   ]
  },
  {
   "cell_type": "code",
   "execution_count": null,
   "metadata": {},
   "outputs": [],
   "source": [
    "import numpy as np\n",
    "from sklearn import metrics\n",
    "# y = np.array([1, 1, 2, 2])\n",
    "# pred = np.array([0.1, 0.4, 0.35, 0.8])\n",
    "actual = data.died_hosp\n",
    "predict = data.apache3score\n",
    "model = dict()\n",
    "actual = dict()\n",
    "predict = dict()\n",
    "color = dict()\n",
    "fpr = dict()\n",
    "tpr = dict()\n",
    "roc_auc = dict()\n",
    "n_classes = 2\n",
    "model[0] = 'apache3'\n",
    "actual[0] = data.died_hosp\n",
    "predict[0] = data.apache3score\n",
    "color[0] = 'blue'\n",
    "model[1] = 'ANZROD'\n",
    "actual[1] = data.died_hosp\n",
    "predict[1] = data.anzrodriskofdeath\n",
    "color[1] = 'orange'\n",
    "for i in range(n_classes):\n",
    "    fpr[i], tpr[i], thresholds = metrics.roc_curve(actual[i], predict[i])\n",
    "    roc_auc[i] = metrics.auc(fpr[i], tpr[i])"
   ]
  },
  {
   "cell_type": "code",
   "execution_count": null,
   "metadata": {},
   "outputs": [],
   "source": [
    "plt.figure()\n",
    "lw = 2\n",
    "for i in range(n_classes):\n",
    "    plt.plot(fpr[i], tpr[i], color=color[i],\n",
    "        lw=lw, label=model[i]+' (AUC = %0.3f)' % roc_auc[i])\n",
    "plt.plot([0, 1], [0, 1], color='lightgrey', lw=lw, linestyle='--')\n",
    "plt.xlim([0.0, 1.0])\n",
    "plt.ylim([0.0, 1.05])\n",
    "plt.xlabel('False Positive Rate')\n",
    "plt.ylabel('True Positive Rate')\n",
    "plt.title('Receiver operating characteristic example')\n",
    "plt.legend(loc=\"lower right\")\n",
    "plt.show()"
   ]
  }
 ],
 "metadata": {
  "kernelspec": {
   "display_name": "Python 3",
   "language": "python",
   "name": "python3"
  },
  "language_info": {
   "codemirror_mode": {
    "name": "ipython",
    "version": 3
   },
   "file_extension": ".py",
   "mimetype": "text/x-python",
   "name": "python",
   "nbconvert_exporter": "python",
   "pygments_lexer": "ipython3",
   "version": "3.7.1"
  }
 },
 "nbformat": 4,
 "nbformat_minor": 2
}
